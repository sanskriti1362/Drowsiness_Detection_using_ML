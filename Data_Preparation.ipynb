{
 "cells": [
  {
   "cell_type": "code",
   "execution_count": 13,
   "metadata": {},
   "outputs": [],
   "source": [
    "import os\n",
    "import shutil\n",
    "import glob\n",
    "import random\n",
    "from tqdm import tqdm"
   ]
  },
  {
   "cell_type": "code",
   "execution_count": 20,
   "metadata": {
    "scrolled": false
   },
   "outputs": [
    {
     "name": "stderr",
     "output_type": "stream",
     "text": [
      "0it [00:00, ?it/s]\n",
      "100%|██████████| 3242/3242 [01:18<00:00, 41.48it/s] \n",
      "100%|██████████| 1114/1114 [00:11<00:00, 95.35it/s]\n",
      "100%|██████████| 679/679 [00:15<00:00, 43.44it/s] \n",
      "100%|██████████| 1069/1069 [00:25<00:00, 41.85it/s]\n",
      "100%|██████████| 736/736 [00:11<00:00, 62.74it/s]\n",
      "100%|██████████| 1012/1012 [00:18<00:00, 54.90it/s]\n",
      "100%|██████████| 624/624 [00:11<00:00, 56.66it/s] \n",
      "100%|██████████| 832/832 [00:13<00:00, 61.06it/s] \n",
      "100%|██████████| 387/387 [00:04<00:00, 83.63it/s] \n",
      "100%|██████████| 399/399 [00:05<00:00, 72.96it/s]\n",
      "100%|██████████| 1648/1648 [00:22<00:00, 73.44it/s] \n",
      "100%|██████████| 8728/8728 [02:21<00:00, 61.80it/s] \n",
      "100%|██████████| 3605/3605 [01:03<00:00, 56.60it/s] \n",
      "100%|██████████| 8884/8884 [03:00<00:00, 49.25it/s] \n",
      "100%|██████████| 1132/1132 [00:33<00:00, 33.75it/s]\n",
      "100%|██████████| 1889/1889 [00:43<00:00, 43.76it/s]\n",
      "100%|██████████| 1648/1648 [00:29<00:00, 55.49it/s] \n",
      "100%|██████████| 4410/4410 [01:38<00:00, 44.78it/s] \n",
      "100%|██████████| 6175/6175 [01:56<00:00, 53.15it/s] \n",
      "100%|██████████| 704/704 [00:22<00:00, 31.24it/s] \n",
      "100%|██████████| 987/987 [00:30<00:00, 32.21it/s] \n",
      "100%|██████████| 382/382 [00:06<00:00, 61.88it/s] \n",
      "100%|██████████| 522/522 [00:17<00:00, 29.69it/s] \n",
      "100%|██████████| 752/752 [00:21<00:00, 34.99it/s] \n",
      "100%|██████████| 1502/1502 [00:47<00:00, 31.75it/s] \n",
      "100%|██████████| 1246/1246 [00:35<00:00, 34.66it/s] \n",
      "100%|██████████| 665/665 [00:25<00:00, 26.25it/s] \n",
      "100%|██████████| 736/736 [00:09<00:00, 78.49it/s] \n",
      "100%|██████████| 1393/1393 [00:49<00:00, 28.42it/s] \n",
      "100%|██████████| 1384/1384 [00:32<00:00, 42.85it/s] \n",
      "100%|██████████| 1738/1738 [00:46<00:00, 37.55it/s] \n",
      "100%|██████████| 6162/6162 [03:05<00:00, 33.15it/s] \n",
      "100%|██████████| 681/681 [00:35<00:00, 19.18it/s]\n",
      "100%|██████████| 739/739 [00:35<00:00, 20.65it/s]\n",
      "100%|██████████| 642/642 [00:21<00:00, 29.93it/s]\n",
      "100%|██████████| 6193/6193 [03:16<00:00, 31.56it/s] \n",
      "100%|██████████| 10257/10257 [06:27<00:00, 26.50it/s] \n"
     ]
    }
   ],
   "source": [
    "Raw_DIR= r'C:\\Users\\sanskriti sidola\\Desktop\\Drowsiness_Detection\\mrlEyes_2018_01'\n",
    "for dirpath, dirname, filenames in os.walk(Raw_DIR):\n",
    "    for i in tqdm([f for f in filenames if f.endswith('.png')]):\n",
    "        if i.split('_')[4]=='0':\n",
    "            path='/Users\\sanskriti sidola/Desktop/Drowsiness_Detection/Prepared_Data/Closed_Eyes'\n",
    "            if not os.path.exists(path):\n",
    "                os.makedirs(path)\n",
    "            shutil.copy(src=dirpath + '/' +i, dst= path)\n",
    "        elif i.split('_')[4]=='1':\n",
    "            path='/Users/sanskriti sidola/Desktop/Drowsiness_Detection/Prepared_Data/Open_Eyes'\n",
    "            if not os.path.exists(path):\n",
    "                os.makedirs(path)\n",
    "            shutil.copy(src=dirpath + '/' +i, dst= path)"
   ]
  }
 ],
 "metadata": {
  "kernelspec": {
   "display_name": "Python 3 (ipykernel)",
   "language": "python",
   "name": "python3"
  },
  "language_info": {
   "codemirror_mode": {
    "name": "ipython",
    "version": 3
   },
   "file_extension": ".py",
   "mimetype": "text/x-python",
   "name": "python",
   "nbconvert_exporter": "python",
   "pygments_lexer": "ipython3",
   "version": "3.8.12"
  }
 },
 "nbformat": 4,
 "nbformat_minor": 2
}
